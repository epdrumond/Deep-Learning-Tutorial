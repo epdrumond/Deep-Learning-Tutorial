{
  "nbformat": 4,
  "nbformat_minor": 0,
  "metadata": {
    "colab": {
      "name": "cifar10.ipynb",
      "version": "0.3.2",
      "provenance": [],
      "collapsed_sections": []
    },
    "kernelspec": {
      "name": "python3",
      "display_name": "Python 3"
    },
    "accelerator": "GPU"
  },
  "cells": [
    {
      "cell_type": "markdown",
      "metadata": {
        "id": "0uu6zjKQc6Gn",
        "colab_type": "text"
      },
      "source": [
        "In this notebook, we are going to develop a simple CNN for the categorization of images using the CIFAR-10 dataset. This project is part of the assignments of the Neural Networks and Deep Learning Tutorial (found [here](https://www.udemy.com/deep-learning-com-python-az-curso-completo/learn/practice/1043276/introduction#overview))"
      ]
    },
    {
      "cell_type": "markdown",
      "metadata": {
        "id": "6Xvfcd4udgC9",
        "colab_type": "text"
      },
      "source": [
        "# Libraries"
      ]
    },
    {
      "cell_type": "code",
      "metadata": {
        "id": "gm5GsK4uc3fA",
        "colab_type": "code",
        "colab": {}
      },
      "source": [
        "#Basic imports\n",
        "import matplotlib.pyplot as plt\n",
        "\n",
        "#SkLearn imports\n",
        "\n",
        "\n",
        "#Keras imports\n",
        "from keras.datasets import cifar10\n",
        "from keras.utils import np_utils\n",
        "from keras.preprocessing.image import ImageDataGenerator\n",
        "from keras.models import Sequential\n",
        "from keras.layers import Dense, Dropout, Conv2D, MaxPooling2D, Flatten\n",
        "from keras.layers.normalization import BatchNormalization"
      ],
      "execution_count": 0,
      "outputs": []
    },
    {
      "cell_type": "markdown",
      "metadata": {
        "id": "3OrqbvVXdx7q",
        "colab_type": "text"
      },
      "source": [
        "# Data Acquisition"
      ]
    },
    {
      "cell_type": "code",
      "metadata": {
        "id": "MdN7Zm8JdyRd",
        "colab_type": "code",
        "outputId": "7c2ac248-5113-40be-f50a-1ea5c50c6deb",
        "colab": {
          "base_uri": "https://localhost:8080/",
          "height": 54
        }
      },
      "source": [
        "#Load data\n",
        "(x_train, y_train), (x_test, y_test) = cifar10.load_data()"
      ],
      "execution_count": 0,
      "outputs": [
        {
          "output_type": "stream",
          "text": [
            "Downloading data from https://www.cs.toronto.edu/~kriz/cifar-10-python.tar.gz\n",
            "170500096/170498071 [==============================] - 2s 0us/step\n"
          ],
          "name": "stdout"
        }
      ]
    },
    {
      "cell_type": "code",
      "metadata": {
        "id": "tcgAgwPCd-Aa",
        "colab_type": "code",
        "outputId": "0bc36aaa-211c-4b3a-f47f-34b5360cc15c",
        "colab": {
          "base_uri": "https://localhost:8080/",
          "height": 178
        }
      },
      "source": [
        "#Print single image\n",
        "plt.figure(figsize = (2,2))\n",
        "plt.imshow(x_train[1])"
      ],
      "execution_count": 0,
      "outputs": [
        {
          "output_type": "execute_result",
          "data": {
            "text/plain": [
              "<matplotlib.image.AxesImage at 0x7fc949b0c828>"
            ]
          },
          "metadata": {
            "tags": []
          },
          "execution_count": 3
        },
        {
          "output_type": "display_data",
          "data": {
            "image/png": "[encoded data removed]",
            "text/plain": [
              "<Figure size 144x144 with 1 Axes>"
            ]
          },
          "metadata": {
            "tags": []
          }
        }
      ]
    },
    {
      "cell_type": "code",
      "metadata": {
        "id": "uPKoxoSyeSSf",
        "colab_type": "code",
        "colab": {}
      },
      "source": [
        "#Normalize features\n",
        "x_train = x_train.astype('float32') / 255\n",
        "x_test = x_test.astype('float32') / 255"
      ],
      "execution_count": 0,
      "outputs": []
    },
    {
      "cell_type": "code",
      "metadata": {
        "id": "lmFGwyVffC7D",
        "colab_type": "code",
        "colab": {}
      },
      "source": [
        "#Encode target\n",
        "y_train = np_utils.to_categorical(y_train, 10)\n",
        "y_test = np_utils.to_categorical(y_test, 10)"
      ],
      "execution_count": 0,
      "outputs": []
    },
    {
      "cell_type": "code",
      "metadata": {
        "id": "jti7r88ggTf7",
        "colab_type": "code",
        "outputId": "2131498b-4d7b-4e98-9440-9f0d073565e2",
        "colab": {
          "base_uri": "https://localhost:8080/",
          "height": 35
        }
      },
      "source": [
        "x_train.shape"
      ],
      "execution_count": 0,
      "outputs": [
        {
          "output_type": "execute_result",
          "data": {
            "text/plain": [
              "(50000, 32, 32, 3)"
            ]
          },
          "metadata": {
            "tags": []
          },
          "execution_count": 6
        }
      ]
    },
    {
      "cell_type": "markdown",
      "metadata": {
        "id": "Y7JV45BTfkSL",
        "colab_type": "text"
      },
      "source": [
        "# Classification model"
      ]
    },
    {
      "cell_type": "markdown",
      "metadata": {
        "id": "em2OAYoAiKQ0",
        "colab_type": "text"
      },
      "source": [
        "## Create CNN model"
      ]
    },
    {
      "cell_type": "code",
      "metadata": {
        "id": "kmfXNT9kfho9",
        "colab_type": "code",
        "colab": {}
      },
      "source": [
        "#Define CNN as function\n",
        "def create_model(n_pre, n_filters, input_dim, n_dense, n_nodes, drop, n_out):\n",
        "  model = Sequential()\n",
        "  \n",
        "  #Preprocessing layers\n",
        "  for i in range(n_pre):\n",
        "    if i == 0:\n",
        "      model.add(Conv2D(filters = n_filters, \n",
        "                kernel_size = (3,3), \n",
        "                strides = (1,1),\n",
        "                input_shape = (input_dim[0],input_dim[1],input_dim[2]),\n",
        "                activation = 'relu'))\n",
        "    else:\n",
        "      model.add(Conv2D(filters = n_filters, \n",
        "                kernel_size = (3,3), \n",
        "                strides = (1,1),\n",
        "                activation = 'relu'))\n",
        "    model.add(BatchNormalization())\n",
        "    model.add(MaxPooling2D(pool_size = (2,2)))\n",
        "  model.add(Flatten())\n",
        "  \n",
        "  #Dense layers\n",
        "  for i in range(n_dense - 1):\n",
        "    model.add(Dense(units = n_nodes, activation = 'relu'))\n",
        "    model.add(Dropout(drop))\n",
        "  model.add(Dense(units = n_out, activation = 'softmax'))\n",
        "  \n",
        "  #Compilation\n",
        "  model.compile(loss = 'categorical_crossentropy', \n",
        "                optimizer = 'adam',\n",
        "                metrics = ['accuracy'])\n",
        "  \n",
        "  return model\n",
        "  "
      ],
      "execution_count": 0,
      "outputs": []
    },
    {
      "cell_type": "code",
      "metadata": {
        "id": "8BLPulA6hX_q",
        "colab_type": "code",
        "colab": {}
      },
      "source": [
        "#Create model instance\n",
        "model = create_model(n_pre = 2,\n",
        "                     n_filters = 64,\n",
        "                     input_dim = x_train.shape[1:],\n",
        "                     n_dense = 2,\n",
        "                     n_nodes = 256,\n",
        "                     drop = 0.3,\n",
        "                     n_out = 10)"
      ],
      "execution_count": 0,
      "outputs": []
    },
    {
      "cell_type": "markdown",
      "metadata": {
        "id": "wKJAPHiBiQvv",
        "colab_type": "text"
      },
      "source": [
        "## Train model"
      ]
    },
    {
      "cell_type": "code",
      "metadata": {
        "id": "mOUrKkvBiDW5",
        "colab_type": "code",
        "outputId": "57b13abe-97b6-442b-caf1-2248927764e8",
        "colab": {
          "base_uri": "https://localhost:8080/",
          "height": 1000
        }
      },
      "source": [
        "model.fit(x = x_train,\n",
        "          y = y_train,\n",
        "          epochs = 50,\n",
        "          batch_size = 128,\n",
        "          validation_data = (x_test, y_test))"
      ],
      "execution_count": 0,
      "outputs": [
        {
          "output_type": "stream",
          "text": [
            "Train on 50000 samples, validate on 10000 samples\n",
            "Epoch 1/50\n",
            "50000/50000 [==============================] - 12s 246us/step - loss: 0.5300 - acc: 0.8137 - val_loss: 1.0221 - val_acc: 0.6659\n",
            "Epoch 2/50\n",
            "50000/50000 [==============================] - 12s 242us/step - loss: 0.4519 - acc: 0.8397 - val_loss: 0.9069 - val_acc: 0.7253\n",
            "Epoch 3/50\n",
            "50000/50000 [==============================] - 12s 237us/step - loss: 0.3859 - acc: 0.8642 - val_loss: 0.9699 - val_acc: 0.7234\n",
            "Epoch 4/50\n",
            "50000/50000 [==============================] - 12s 233us/step - loss: 0.3378 - acc: 0.8826 - val_loss: 0.8706 - val_acc: 0.7258\n",
            "Epoch 5/50\n",
            "50000/50000 [==============================] - 12s 236us/step - loss: 0.2876 - acc: 0.8994 - val_loss: 1.0294 - val_acc: 0.6935\n",
            "Epoch 6/50\n",
            "50000/50000 [==============================] - 12s 234us/step - loss: 0.2571 - acc: 0.9089 - val_loss: 1.0167 - val_acc: 0.7185\n",
            "Epoch 7/50\n",
            "50000/50000 [==============================] - 12s 236us/step - loss: 0.2309 - acc: 0.9174 - val_loss: 1.0663 - val_acc: 0.7115\n",
            "Epoch 8/50\n",
            "50000/50000 [==============================] - 12s 236us/step - loss: 0.2182 - acc: 0.9236 - val_loss: 1.0768 - val_acc: 0.7198\n",
            "Epoch 9/50\n",
            "50000/50000 [==============================] - 12s 236us/step - loss: 0.1922 - acc: 0.9314 - val_loss: 1.0693 - val_acc: 0.7254\n",
            "Epoch 10/50\n",
            "50000/50000 [==============================] - 12s 233us/step - loss: 0.1832 - acc: 0.9367 - val_loss: 1.1639 - val_acc: 0.7257\n",
            "Epoch 11/50\n",
            "50000/50000 [==============================] - 12s 234us/step - loss: 0.1740 - acc: 0.9396 - val_loss: 1.5632 - val_acc: 0.7195\n",
            "Epoch 12/50\n",
            "50000/50000 [==============================] - 12s 234us/step - loss: 0.1621 - acc: 0.9431 - val_loss: 1.2537 - val_acc: 0.6802\n",
            "Epoch 13/50\n",
            "50000/50000 [==============================] - 12s 233us/step - loss: 0.1522 - acc: 0.9460 - val_loss: 1.1583 - val_acc: 0.7053\n",
            "Epoch 14/50\n",
            "50000/50000 [==============================] - 12s 233us/step - loss: 0.1432 - acc: 0.9507 - val_loss: 1.1950 - val_acc: 0.7232\n",
            "Epoch 15/50\n",
            "50000/50000 [==============================] - 12s 230us/step - loss: 0.1366 - acc: 0.9524 - val_loss: 1.5159 - val_acc: 0.7254\n",
            "Epoch 16/50\n",
            "50000/50000 [==============================] - 12s 230us/step - loss: 0.1403 - acc: 0.9518 - val_loss: 1.3267 - val_acc: 0.7100\n",
            "Epoch 17/50\n",
            "50000/50000 [==============================] - 12s 231us/step - loss: 0.1326 - acc: 0.9537 - val_loss: 1.3160 - val_acc: 0.7199\n",
            "Epoch 18/50\n",
            "50000/50000 [==============================] - 11s 229us/step - loss: 0.1210 - acc: 0.9576 - val_loss: 1.7395 - val_acc: 0.7093\n",
            "Epoch 19/50\n",
            "50000/50000 [==============================] - 12s 231us/step - loss: 0.1303 - acc: 0.9546 - val_loss: 1.4376 - val_acc: 0.6845\n",
            "Epoch 20/50\n",
            "50000/50000 [==============================] - 11s 230us/step - loss: 0.1223 - acc: 0.9582 - val_loss: 1.6641 - val_acc: 0.6935\n",
            "Epoch 21/50\n",
            "50000/50000 [==============================] - 12s 230us/step - loss: 0.1193 - acc: 0.9590 - val_loss: 1.4119 - val_acc: 0.7426\n",
            "Epoch 22/50\n",
            "50000/50000 [==============================] - 11s 229us/step - loss: 0.1074 - acc: 0.9629 - val_loss: 1.3676 - val_acc: 0.7320\n",
            "Epoch 23/50\n",
            "50000/50000 [==============================] - 11s 229us/step - loss: 0.1059 - acc: 0.9640 - val_loss: 1.3528 - val_acc: 0.7204\n",
            "Epoch 24/50\n",
            "50000/50000 [==============================] - 12s 230us/step - loss: 0.1081 - acc: 0.9629 - val_loss: 1.7819 - val_acc: 0.7087\n",
            "Epoch 25/50\n",
            "50000/50000 [==============================] - 11s 230us/step - loss: 0.1008 - acc: 0.9659 - val_loss: 1.4379 - val_acc: 0.7147\n",
            "Epoch 26/50\n",
            "50000/50000 [==============================] - 11s 229us/step - loss: 0.1030 - acc: 0.9647 - val_loss: 1.4746 - val_acc: 0.7376\n",
            "Epoch 27/50\n",
            "50000/50000 [==============================] - 11s 229us/step - loss: 0.1021 - acc: 0.9645 - val_loss: 1.5592 - val_acc: 0.7243\n",
            "Epoch 28/50\n",
            "50000/50000 [==============================] - 12s 230us/step - loss: 0.0922 - acc: 0.9679 - val_loss: 1.6659 - val_acc: 0.6911\n",
            "Epoch 29/50\n",
            "50000/50000 [==============================] - 11s 230us/step - loss: 0.0930 - acc: 0.9679 - val_loss: 1.8203 - val_acc: 0.6859\n",
            "Epoch 30/50\n",
            "50000/50000 [==============================] - 11s 229us/step - loss: 0.0905 - acc: 0.9685 - val_loss: 1.7071 - val_acc: 0.7058\n",
            "Epoch 31/50\n",
            "50000/50000 [==============================] - 11s 229us/step - loss: 0.0919 - acc: 0.9688 - val_loss: 1.5467 - val_acc: 0.7195\n",
            "Epoch 32/50\n",
            "50000/50000 [==============================] - 11s 230us/step - loss: 0.0912 - acc: 0.9684 - val_loss: 2.0036 - val_acc: 0.6805\n",
            "Epoch 33/50\n",
            "50000/50000 [==============================] - 12s 233us/step - loss: 0.0884 - acc: 0.9702 - val_loss: 1.4829 - val_acc: 0.7392\n",
            "Epoch 34/50\n",
            "50000/50000 [==============================] - 11s 230us/step - loss: 0.0816 - acc: 0.9724 - val_loss: 1.7632 - val_acc: 0.7018\n",
            "Epoch 35/50\n",
            "50000/50000 [==============================] - 12s 234us/step - loss: 0.0830 - acc: 0.9714 - val_loss: 1.7553 - val_acc: 0.7207\n",
            "Epoch 36/50\n",
            "50000/50000 [==============================] - 12s 231us/step - loss: 0.0834 - acc: 0.9719 - val_loss: 1.5291 - val_acc: 0.7166\n",
            "Epoch 37/50\n",
            "50000/50000 [==============================] - 11s 229us/step - loss: 0.0845 - acc: 0.9710 - val_loss: 1.6177 - val_acc: 0.7181\n",
            "Epoch 38/50\n",
            "50000/50000 [==============================] - 11s 228us/step - loss: 0.0745 - acc: 0.9743 - val_loss: 1.4147 - val_acc: 0.6676\n",
            "Epoch 39/50\n",
            "50000/50000 [==============================] - 11s 228us/step - loss: 0.0747 - acc: 0.9745 - val_loss: 1.5302 - val_acc: 0.7345\n",
            "Epoch 40/50\n",
            "50000/50000 [==============================] - 11s 228us/step - loss: 0.0726 - acc: 0.9745 - val_loss: 1.5777 - val_acc: 0.7231\n",
            "Epoch 41/50\n",
            "50000/50000 [==============================] - 11s 228us/step - loss: 0.0754 - acc: 0.9745 - val_loss: 1.7164 - val_acc: 0.7318\n",
            "Epoch 42/50\n",
            "50000/50000 [==============================] - 11s 228us/step - loss: 0.0721 - acc: 0.9764 - val_loss: 1.6559 - val_acc: 0.7306\n",
            "Epoch 43/50\n",
            "50000/50000 [==============================] - 11s 228us/step - loss: 0.0749 - acc: 0.9746 - val_loss: 1.7810 - val_acc: 0.7215\n",
            "Epoch 44/50\n",
            "50000/50000 [==============================] - 11s 227us/step - loss: 0.0724 - acc: 0.9753 - val_loss: 1.4935 - val_acc: 0.7304\n",
            "Epoch 45/50\n",
            "50000/50000 [==============================] - 11s 228us/step - loss: 0.0715 - acc: 0.9759 - val_loss: 1.6187 - val_acc: 0.7335\n",
            "Epoch 46/50\n",
            "50000/50000 [==============================] - 11s 227us/step - loss: 0.0642 - acc: 0.9787 - val_loss: 1.4505 - val_acc: 0.7320\n",
            "Epoch 47/50\n",
            "50000/50000 [==============================] - 11s 227us/step - loss: 0.0637 - acc: 0.9785 - val_loss: 1.6053 - val_acc: 0.7240\n",
            "Epoch 48/50\n",
            "50000/50000 [==============================] - 11s 225us/step - loss: 0.0652 - acc: 0.9777 - val_loss: 1.6862 - val_acc: 0.6721\n",
            "Epoch 49/50\n",
            "50000/50000 [==============================] - 11s 217us/step - loss: 0.0739 - acc: 0.9752 - val_loss: 1.5299 - val_acc: 0.7268\n",
            "Epoch 50/50\n",
            "50000/50000 [==============================] - 11s 212us/step - loss: 0.0676 - acc: 0.9773 - val_loss: 1.6429 - val_acc: 0.7019\n"
          ],
          "name": "stdout"
        },
        {
          "output_type": "execute_result",
          "data": {
            "text/plain": [
              "<keras.callbacks.History at 0x7fc8f6be07f0>"
            ]
          },
          "metadata": {
            "tags": []
          },
          "execution_count": 37
        }
      ]
    },
    {
      "cell_type": "markdown",
      "metadata": {
        "id": "yEfAGhL0m7K2",
        "colab_type": "text"
      },
      "source": [
        "# Train augmented model"
      ]
    },
    {
      "cell_type": "code",
      "metadata": {
        "id": "5ZAVIPI7rFHn",
        "colab_type": "code",
        "colab": {}
      },
      "source": [
        "#Generate new instancies \n",
        "x_new_train = ImageDataGenerator(rotation_range = 7,\n",
        "                                 horizontal_flip = True,\n",
        "                                 shear_range = 0.2,\n",
        "                                 height_shift_range = 0.07,\n",
        "                                 zoom_range = 0.2)\n",
        "x_new_test = ImageDataGenerator()\n",
        "\n",
        "aug_train = x_new_train.flow(x_train, y_train, batch_size = 128)\n",
        "aug_test = x_new_test.flow(x_train, y_train, batch_size = 128)"
      ],
      "execution_count": 0,
      "outputs": []
    },
    {
      "cell_type": "code",
      "metadata": {
        "id": "v4fxgUUCrKum",
        "colab_type": "code",
        "outputId": "6906c346-3175-472b-f37d-6ec3141f153a",
        "colab": {
          "base_uri": "https://localhost:8080/",
          "height": 1000
        }
      },
      "source": [
        "aug_model = create_model(n_pre = 2,\n",
        "                     n_filters = 64,\n",
        "                     input_dim = x_train.shape[1:],\n",
        "                     n_dense = 2,\n",
        "                     n_nodes = 256,\n",
        "                     drop = 0.3,\n",
        "                     n_out = 10)\n",
        "\n",
        "aug_model.fit_generator(aug_train, \n",
        "                        steps_per_epoch = 60000 / 128, \n",
        "                        epochs = 50,\n",
        "                        validation_data =  aug_test,\n",
        "                        validation_steps = 60000 / 128)"
      ],
      "execution_count": 0,
      "outputs": [
        {
          "output_type": "stream",
          "text": [
            "Epoch 1/50\n",
            "469/468 [==============================] - 48s 102ms/step - loss: 1.5155 - acc: 0.4707 - val_loss: 1.3858 - val_acc: 0.4985\n",
            "Epoch 2/50\n",
            "469/468 [==============================] - 45s 95ms/step - loss: 1.1791 - acc: 0.5846 - val_loss: 1.3449 - val_acc: 0.5675\n",
            "Epoch 3/50\n",
            "469/468 [==============================] - 45s 95ms/step - loss: 1.0514 - acc: 0.6353 - val_loss: 1.1433 - val_acc: 0.6348\n",
            "Epoch 4/50\n",
            "469/468 [==============================] - 45s 95ms/step - loss: 0.9663 - acc: 0.6631 - val_loss: 0.7976 - val_acc: 0.7226\n",
            "Epoch 5/50\n",
            "469/468 [==============================] - 45s 95ms/step - loss: 0.8988 - acc: 0.6879 - val_loss: 0.8308 - val_acc: 0.7149\n",
            "Epoch 6/50\n",
            "469/468 [==============================] - 44s 95ms/step - loss: 0.8507 - acc: 0.7047 - val_loss: 0.7974 - val_acc: 0.7305\n",
            "Epoch 7/50\n",
            "469/468 [==============================] - 45s 95ms/step - loss: 0.8127 - acc: 0.7181 - val_loss: 0.7938 - val_acc: 0.7289\n",
            "Epoch 8/50\n",
            "469/468 [==============================] - 45s 96ms/step - loss: 0.7895 - acc: 0.7248 - val_loss: 0.7723 - val_acc: 0.7350\n",
            "Epoch 9/50\n",
            "469/468 [==============================] - 45s 95ms/step - loss: 0.7603 - acc: 0.7371 - val_loss: 0.7925 - val_acc: 0.7249\n",
            "Epoch 10/50\n",
            "469/468 [==============================] - 45s 95ms/step - loss: 0.7348 - acc: 0.7448 - val_loss: 0.6573 - val_acc: 0.7702\n",
            "Epoch 11/50\n",
            "469/468 [==============================] - 45s 95ms/step - loss: 0.7101 - acc: 0.7538 - val_loss: 0.6072 - val_acc: 0.7911\n",
            "Epoch 12/50\n",
            "469/468 [==============================] - 44s 93ms/step - loss: 0.6960 - acc: 0.7590 - val_loss: 0.5717 - val_acc: 0.8008\n",
            "Epoch 13/50\n",
            "469/468 [==============================] - 44s 94ms/step - loss: 0.6784 - acc: 0.7643 - val_loss: 0.5671 - val_acc: 0.8019\n",
            "Epoch 14/50\n",
            "469/468 [==============================] - 44s 94ms/step - loss: 0.6657 - acc: 0.7685 - val_loss: 0.5266 - val_acc: 0.8152\n",
            "Epoch 15/50\n",
            "469/468 [==============================] - 44s 94ms/step - loss: 0.6469 - acc: 0.7744 - val_loss: 0.6497 - val_acc: 0.7716\n",
            "Epoch 16/50\n",
            "469/468 [==============================] - 44s 94ms/step - loss: 0.6344 - acc: 0.7806 - val_loss: 0.6633 - val_acc: 0.7866\n",
            "Epoch 17/50\n",
            "469/468 [==============================] - 44s 94ms/step - loss: 0.6223 - acc: 0.7828 - val_loss: 0.4516 - val_acc: 0.8439\n",
            "Epoch 18/50\n",
            "469/468 [==============================] - 44s 94ms/step - loss: 0.6102 - acc: 0.7896 - val_loss: 0.6350 - val_acc: 0.7835\n",
            "Epoch 19/50\n",
            "469/468 [==============================] - 44s 94ms/step - loss: 0.6007 - acc: 0.7898 - val_loss: 0.6162 - val_acc: 0.7857\n",
            "Epoch 20/50\n",
            "469/468 [==============================] - 45s 96ms/step - loss: 0.5906 - acc: 0.7953 - val_loss: 0.5866 - val_acc: 0.8045\n",
            "Epoch 21/50\n",
            "469/468 [==============================] - 45s 97ms/step - loss: 0.5720 - acc: 0.8012 - val_loss: 0.5016 - val_acc: 0.8238\n",
            "Epoch 22/50\n",
            "469/468 [==============================] - 45s 97ms/step - loss: 0.5638 - acc: 0.8041 - val_loss: 0.5262 - val_acc: 0.8159\n",
            "Epoch 23/50\n",
            "469/468 [==============================] - 45s 96ms/step - loss: 0.5602 - acc: 0.8033 - val_loss: 0.4653 - val_acc: 0.8402\n",
            "Epoch 24/50\n",
            "469/468 [==============================] - 45s 95ms/step - loss: 0.5472 - acc: 0.8089 - val_loss: 0.7485 - val_acc: 0.7738\n",
            "Epoch 25/50\n",
            "469/468 [==============================] - 45s 96ms/step - loss: 0.5476 - acc: 0.8109 - val_loss: 0.4004 - val_acc: 0.8641\n",
            "Epoch 26/50\n",
            "469/468 [==============================] - 45s 95ms/step - loss: 0.5340 - acc: 0.8143 - val_loss: 0.4445 - val_acc: 0.8503\n",
            "Epoch 27/50\n",
            "469/468 [==============================] - 44s 94ms/step - loss: 0.5239 - acc: 0.8185 - val_loss: 0.4240 - val_acc: 0.8566\n",
            "Epoch 28/50\n",
            "469/468 [==============================] - 44s 94ms/step - loss: 0.5163 - acc: 0.8195 - val_loss: 0.4672 - val_acc: 0.8345\n",
            "Epoch 29/50\n",
            "469/468 [==============================] - 44s 95ms/step - loss: 0.5190 - acc: 0.8194 - val_loss: 0.3483 - val_acc: 0.8819\n",
            "Epoch 30/50\n",
            "469/468 [==============================] - 44s 95ms/step - loss: 0.5103 - acc: 0.8207 - val_loss: 0.3807 - val_acc: 0.8662\n",
            "Epoch 31/50\n",
            "469/468 [==============================] - 44s 95ms/step - loss: 0.5013 - acc: 0.8255 - val_loss: 0.4603 - val_acc: 0.8461\n",
            "Epoch 32/50\n",
            "469/468 [==============================] - 45s 95ms/step - loss: 0.4981 - acc: 0.8270 - val_loss: 0.3614 - val_acc: 0.8765\n",
            "Epoch 33/50\n",
            "469/468 [==============================] - 44s 94ms/step - loss: 0.4905 - acc: 0.8290 - val_loss: 0.3076 - val_acc: 0.8956\n",
            "Epoch 34/50\n",
            "469/468 [==============================] - 44s 95ms/step - loss: 0.4861 - acc: 0.8305 - val_loss: 0.3831 - val_acc: 0.8677\n",
            "Epoch 35/50\n",
            "469/468 [==============================] - 44s 94ms/step - loss: 0.4789 - acc: 0.8336 - val_loss: 0.3245 - val_acc: 0.8888\n",
            "Epoch 36/50\n",
            "469/468 [==============================] - 44s 94ms/step - loss: 0.4708 - acc: 0.8366 - val_loss: 0.3293 - val_acc: 0.8888\n",
            "Epoch 37/50\n",
            "469/468 [==============================] - 44s 94ms/step - loss: 0.4622 - acc: 0.8378 - val_loss: 0.3176 - val_acc: 0.8915\n",
            "Epoch 38/50\n",
            "469/468 [==============================] - 44s 94ms/step - loss: 0.4602 - acc: 0.8375 - val_loss: 0.3240 - val_acc: 0.8905\n",
            "Epoch 39/50\n",
            "469/468 [==============================] - 44s 94ms/step - loss: 0.4609 - acc: 0.8386 - val_loss: 0.2817 - val_acc: 0.9051\n",
            "Epoch 40/50\n",
            "469/468 [==============================] - 44s 94ms/step - loss: 0.4587 - acc: 0.8406 - val_loss: 0.3154 - val_acc: 0.8943\n",
            "Epoch 41/50\n",
            "469/468 [==============================] - 44s 94ms/step - loss: 0.4496 - acc: 0.8438 - val_loss: 0.2912 - val_acc: 0.9021\n",
            "Epoch 42/50\n",
            "469/468 [==============================] - 44s 94ms/step - loss: 0.4507 - acc: 0.8421 - val_loss: 0.3860 - val_acc: 0.8691\n",
            "Epoch 43/50\n",
            "469/468 [==============================] - 44s 94ms/step - loss: 0.4435 - acc: 0.8457 - val_loss: 0.3232 - val_acc: 0.8906\n",
            "Epoch 44/50\n",
            "469/468 [==============================] - 45s 96ms/step - loss: 0.4379 - acc: 0.8477 - val_loss: 0.2796 - val_acc: 0.9060\n",
            "Epoch 45/50\n",
            "469/468 [==============================] - 45s 96ms/step - loss: 0.4362 - acc: 0.8483 - val_loss: 0.3695 - val_acc: 0.8753\n",
            "Epoch 46/50\n",
            "469/468 [==============================] - 45s 95ms/step - loss: 0.4343 - acc: 0.8477 - val_loss: 0.2927 - val_acc: 0.9007\n",
            "Epoch 47/50\n",
            "469/468 [==============================] - 45s 95ms/step - loss: 0.4295 - acc: 0.8520 - val_loss: 0.3757 - val_acc: 0.8665\n",
            "Epoch 48/50\n",
            "469/468 [==============================] - 45s 95ms/step - loss: 0.4235 - acc: 0.8523 - val_loss: 0.2719 - val_acc: 0.9091\n",
            "Epoch 49/50\n",
            "469/468 [==============================] - 45s 95ms/step - loss: 0.4242 - acc: 0.8503 - val_loss: 0.3542 - val_acc: 0.8769\n",
            "Epoch 50/50\n",
            "469/468 [==============================] - 45s 95ms/step - loss: 0.4207 - acc: 0.8531 - val_loss: 0.2448 - val_acc: 0.9167\n"
          ],
          "name": "stdout"
        },
        {
          "output_type": "execute_result",
          "data": {
            "text/plain": [
              "<keras.callbacks.History at 0x7fc8f65b6278>"
            ]
          },
          "metadata": {
            "tags": []
          },
          "execution_count": 42
        }
      ]
    }
  ]
}