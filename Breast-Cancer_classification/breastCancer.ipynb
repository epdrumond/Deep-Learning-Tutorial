{
 "cells": [
  {
   "cell_type": "code",
   "execution_count": null,
   "metadata": {
    "colab": {},
    "colab_type": "code",
    "id": "iQsIjKm53Cur"
   },
   "outputs": [],
   "source": [
    "#Basic imports\n",
    "import pandas as pd\n",
    "import numpy as np\n",
    "\n",
    "#General SkLearn imports\n",
    "from sklearn.model_selection import GridSearchCV, cross_val_score\n",
    "from sklearn.metrics import accuracy_score, confusion_matrix\n",
    "\n",
    "#Keras imports\n",
    "import keras\n",
    "from keras.models import Sequential\n",
    "from keras.layers import Dense, Dropout\n",
    "from keras.wrappers.scikit_learn import KerasClassifier"
   ]
  },
  {
   "cell_type": "code",
   "execution_count": null,
   "metadata": {
    "colab": {},
    "colab_type": "code",
    "id": "1YL1Dqjs6b-6"
   },
   "outputs": [],
   "source": [
    "#Define neural network function model\n",
    "def bin_net(opt, loss_f, kernel, act, n_input, nodes, n_layers, drop):\n",
    "    model = Sequential()\n",
    "    model.add(Dense(units = nodes, activation = act, \n",
    "                    kernel_initializer = kernel, input_dim = n_input))\n",
    "    model.add(Dropout(drop))\n",
    "    for n in range(n_layers):\n",
    "        model.add(Dense(units = nodes, activation = act, \n",
    "                    kernel_initializer = kernel))\n",
    "        model.add(Dropout(drop))\n",
    "    model.add(Dense(units = 1, activation = 'sigmoid'))\n",
    "    \n",
    "    model.compile(optimizer = opt, loss = loss_f, \n",
    "                  metrics = ['accuracy'])\n",
    "    return model  "
   ]
  },
  {
   "cell_type": "code",
   "execution_count": null,
   "metadata": {
    "colab": {},
    "colab_type": "code",
    "id": "ykcqS6qW6zWd"
   },
   "outputs": [],
   "source": [
    "#Read data\n",
    "atr = pd.read_csv('entradas-breast.csv')\n",
    "target = pd.read_csv('saidas-breast.csv')"
   ]
  },
  {
   "cell_type": "code",
   "execution_count": null,
   "metadata": {
    "colab": {},
    "colab_type": "code",
    "id": "e8lJOaBS7ZF8"
   },
   "outputs": [],
   "source": [
    "#Tune model\n",
    "model = KerasClassifier(build_fn = bin_net)\n",
    "param = {'batch_size': [10, 20, 30],\n",
    "         'epochs': [100, 200, 500],\n",
    "         'opt': ['adam', 'adamax'],\n",
    "         'loss_f': ['binary_crossentropy'],\n",
    "         'kernel': ['random_uniform', 'normal'],\n",
    "         'act': ['relu', 'tanh'],\n",
    "         'n_input': [30],\n",
    "         'nodes': [8, 15, 22],\n",
    "         'n_layers': [0, 1, 2, 4],\n",
    "         'drop': [0.2, 0.3]}\n",
    "\n",
    "grid = GridSearchCV(estimator = model, \n",
    "                   param_grid = param,\n",
    "                   scoring = 'accuracy',\n",
    "                   cv = 5,\n",
    "                   n_jobs = 10,\n",
    "                   verbose = 2)\n",
    "grid.fit(atr, target)"
   ]
  },
  {
   "cell_type": "code",
   "execution_count": null,
   "metadata": {
    "colab": {},
    "colab_type": "code",
    "id": "wmhmQUcn9mBC"
   },
   "outputs": [],
   "source": [
    "grid_df = pd.DataFrame(data = grid.cv_results_)\n",
    "grid_df.to_csv('grid_breast.csv')"
   ]
  },
  {
   "cell_type": "code",
   "execution_count": null,
   "metadata": {
    "colab": {},
    "colab_type": "code",
    "id": "NEwJmipS99sr"
   },
   "outputs": [],
   "source": [
    "#Test tuned model\n",
    "param = grid.best_params_\n",
    "tuned_model = KerasClassifier(build_fn = bin_net,\n",
    "                              batch_size = param['batch_size'],\n",
    "                              epochs = param['epochs'],\n",
    "                              opt = param['opt'],\n",
    "                              loss_f = param['loss_f'],\n",
    "                              kernel = param['kernel'],\n",
    "                              act = param['act'],\n",
    "                              n_input = param['n_input'],\n",
    "                              nodes = param['nodes'],\n",
    "                              n_layers = param['n_layers'],\n",
    "                              drop = param['drop'])\n",
    "score = np.mean(cross_val_score(tuned_model, atr, target, cv = 5))\n",
    "                              "
   ]
  },
  {
   "cell_type": "code",
   "execution_count": null,
   "metadata": {
    "colab": {
     "base_uri": "https://localhost:8080/",
     "height": 35
    },
    "colab_type": "code",
    "executionInfo": {
     "elapsed": 501,
     "status": "ok",
     "timestamp": 1563154668624,
     "user": {
      "displayName": "Edilson Drumond",
      "photoUrl": "",
      "userId": "02480197902791893700"
     },
     "user_tz": 180
    },
    "id": "vJ-6JiztGLEF",
    "outputId": "1349b98c-4c5e-4e83-f155-1752e5d24095"
   },
   "outputs": [
    {
     "data": {
      "text/plain": [
       "0.8858096495638573"
      ]
     },
     "execution_count": 9,
     "metadata": {
      "tags": []
     },
     "output_type": "execute_result"
    }
   ],
   "source": [
    "score"
   ]
  }
 ],
 "metadata": {
  "colab": {
   "name": "breastCancer.ipynb",
   "provenance": [],
   "version": "0.3.2"
  },
  "kernelspec": {
   "display_name": "Python 3",
   "language": "python",
   "name": "python3"
  },
  "language_info": {
   "codemirror_mode": {
    "name": "ipython",
    "version": 3
   },
   "file_extension": ".py",
   "mimetype": "text/x-python",
   "name": "python",
   "nbconvert_exporter": "python",
   "pygments_lexer": "ipython3",
   "version": "3.7.3"
  }
 },
 "nbformat": 4,
 "nbformat_minor": 2
}
