{
 "cells": [
  {
   "cell_type": "markdown",
   "metadata": {
    "colab_type": "text",
    "id": "bMcHkhGkROdX"
   },
   "source": [
    "### Imports"
   ]
  },
  {
   "cell_type": "code",
   "execution_count": null,
   "metadata": {
    "colab": {},
    "colab_type": "code",
    "id": "_JLcG3ZIZgfN"
   },
   "outputs": [],
   "source": [
    "#Basic imports\n",
    "import pandas as pd\n",
    "import numpy as np\n",
    "\n",
    "#SkLearn imports\n",
    "from sklearn.preprocessing import LabelEncoder\n",
    "\n",
    "#Keras imports\n",
    "import keras\n",
    "from keras.models import Sequential\n",
    "from keras.layers import Dense, Dropout"
   ]
  },
  {
   "cell_type": "markdown",
   "metadata": {
    "colab_type": "text",
    "id": "qMYpPSueRYX_"
   },
   "source": [
    "### Data set aquisiton and preprocessing"
   ]
  },
  {
   "cell_type": "code",
   "execution_count": null,
   "metadata": {
    "colab": {},
    "colab_type": "code",
    "id": "4iHZbAaObQMS"
   },
   "outputs": [],
   "source": [
    "#Load dataset\n",
    "df = pd.read_csv('autos.csv', encoding = 'ISO-8859-1')"
   ]
  },
  {
   "cell_type": "markdown",
   "metadata": {
    "colab_type": "text",
    "id": "A6hxjlRCgCOO"
   },
   "source": [
    "1. Treating data:\n",
    "\n",
    "The data treatment is going to be divided in three steps:\n",
    "\n",
    "\n",
    "*   Remove attributes based on their importance to the regression;\n",
    "*   Handle incosistent values;\n",
    "*   Handle missing data."
   ]
  },
  {
   "cell_type": "code",
   "execution_count": null,
   "metadata": {
    "colab": {},
    "colab_type": "code",
    "id": "6xD5ltPLJjg8"
   },
   "outputs": [],
   "source": [
    "#Removing unimportant attributes\n",
    "to_remove = ['dateCrawled', 'name', 'yearOfRegistration', 'monthOfRegistration', 'dateCreated', 'nrOfPictures', 'lastSeen', 'postalCode']\n",
    "df = df.drop(columns = to_remove)"
   ]
  },
  {
   "cell_type": "code",
   "execution_count": null,
   "metadata": {
    "colab": {},
    "colab_type": "code",
    "id": "1DSR9upgK8yp"
   },
   "outputs": [],
   "source": [
    "#Investigate remaining attributes\n",
    "import matplotlib.pyplot as plt\n",
    "import seaborn as sns\n",
    "\n",
    "for i in df.columns.values:\n",
    "  plt.figure()\n",
    "  if df.dtypes[i] == object:\n",
    "    sns.countplot(df[i])\n",
    "  else:\n",
    "    sns.distplot(df[i])"
   ]
  },
  {
   "cell_type": "markdown",
   "metadata": {
    "colab_type": "text",
    "id": "jHe62QrrPRp6"
   },
   "source": [
    "Based on the previous plots, both 'seller' and 'offerType' attributes should not be very important for the regression model. This is simply due to how poorly distributed they are in this specific dataset. It is important to emphasize the decision to remove these attributes is not related to any analysis on their intrisic importance to the problem. "
   ]
  },
  {
   "cell_type": "code",
   "execution_count": null,
   "metadata": {
    "colab": {},
    "colab_type": "code",
    "id": "qq0cWpNGNtUK"
   },
   "outputs": [],
   "source": [
    "#Remove attributes based on plot distributions\n",
    "plt_based_remove = ['seller', 'offerType', 'model']\n",
    "df = df.drop(columns = plt_based_remove)"
   ]
  },
  {
   "cell_type": "markdown",
   "metadata": {
    "colab_type": "text",
    "id": "_ZDX1lzBWLaW"
   },
   "source": [
    "The data incosistencies basically are atypical 'price' values, considering usual car prices. These values are likely due to errors in the ad or in the data crawler."
   ]
  },
  {
   "cell_type": "code",
   "execution_count": null,
   "metadata": {
    "colab": {},
    "colab_type": "code",
    "id": "bszFDBJDT4go"
   },
   "outputs": [],
   "source": [
    "#Handle incosistent values (removing instacies in which 'price' <= 10 or 'price' > 350,000)\n",
    "df = df[df['price'] > 10]\n",
    "df = df[df['price'] < 350000]"
   ]
  },
  {
   "cell_type": "code",
   "execution_count": null,
   "metadata": {
    "colab": {
     "base_uri": "https://localhost:8080/",
     "height": 187
    },
    "colab_type": "code",
    "executionInfo": {
     "elapsed": 497,
     "status": "ok",
     "timestamp": 1563220407012,
     "user": {
      "displayName": "Edilson Drumond",
      "photoUrl": "",
      "userId": "02480197902791893700"
     },
     "user_tz": 180
    },
    "id": "ycs95mEHWkbx",
    "outputId": "67184597-2394-400b-c6de-31a8634f1e7e"
   },
   "outputs": [
    {
     "name": "stdout",
     "output_type": "stream",
     "text": [
      "price                    0\n",
      "abtest                   0\n",
      "vehicleType          33546\n",
      "gearbox              17236\n",
      "powerPS                  0\n",
      "kilometer                0\n",
      "fuelType             29391\n",
      "brand                    0\n",
      "notRepairedDamage    65986\n",
      "dtype: int64\n"
     ]
    }
   ],
   "source": [
    "#Find missing values\n",
    "is_null = df.isnull().sum()\n",
    "print(is_null)"
   ]
  },
  {
   "cell_type": "code",
   "execution_count": null,
   "metadata": {
    "colab": {},
    "colab_type": "code",
    "id": "hTwpuf8XY5gH"
   },
   "outputs": [],
   "source": [
    "#Define function to replace missing values\n",
    "def nan_to_category(data, col):\n",
    "  new_val = data[col].value_counts().index[0]\n",
    "  data[col] = data[col].replace(to_replace = np.nan, value = new_val)\n",
    "  return data"
   ]
  },
  {
   "cell_type": "code",
   "execution_count": null,
   "metadata": {
    "colab": {},
    "colab_type": "code",
    "id": "cZiEuVAzaE3V"
   },
   "outputs": [],
   "source": [
    "#Replacing missing values for most common value (categorical attributes)\n",
    "df = nan_to_category(df, 'vehicleType')\n",
    "df = nan_to_category(df, 'gearbox')\n",
    "df = nan_to_category(df, 'fuelType')\n",
    "df = nan_to_category(df, 'notRepairedDamage')"
   ]
  },
  {
   "cell_type": "markdown",
   "metadata": {
    "colab_type": "text",
    "id": "Rz_KemkIemkX"
   },
   "source": [
    "2. Encoding data"
   ]
  },
  {
   "cell_type": "code",
   "execution_count": null,
   "metadata": {
    "colab": {},
    "colab_type": "code",
    "id": "-AjIAMGLbsus"
   },
   "outputs": [],
   "source": [
    "#Split data into attributes and target\n",
    "target = df['price'].copy()\n",
    "atr = df.drop(columns = 'price')"
   ]
  },
  {
   "cell_type": "code",
   "execution_count": null,
   "metadata": {
    "colab": {},
    "colab_type": "code",
    "id": "HmNstbbSoNpb"
   },
   "outputs": [],
   "source": [
    "#Define function to encode data using LabelEncoder\n",
    "from sklearn.preprocessing import LabelEncoder, OneHotEncoder\n",
    "\n",
    "def encode_data(data, is_hot):\n",
    "  code_list = []\n",
    "  col_names = []\n",
    "  hot_list = []\n",
    "  dummy = data.copy()\n",
    "  for col in dummy.columns.values:\n",
    "    if dummy[col].dtypes == object:\n",
    "      coder = LabelEncoder()\n",
    "      dummy[col] = coder.fit_transform(dummy[col].values)\n",
    "      code_list.append(coder)\n",
    "      col_names.append(col)\n",
    "      hot_list.append(True)\n",
    "    else:\n",
    "      hot_list.append(False)\n",
    "  encoder_list = pd.DataFrame(data = code_list)\n",
    "  encoder_list.index = col_names\n",
    "  if is_hot:\n",
    "    hot_coder = OneHotEncoder(categorical_features = hot_list)\n",
    "    dummy = hot_coder.fit_transform(dummy).toarray()\n",
    "  \n",
    "  return dummy"
   ]
  },
  {
   "cell_type": "code",
   "execution_count": null,
   "metadata": {
    "colab": {
     "base_uri": "https://localhost:8080/",
     "height": 139
    },
    "colab_type": "code",
    "executionInfo": {
     "elapsed": 1927,
     "status": "ok",
     "timestamp": 1563220455456,
     "user": {
      "displayName": "Edilson Drumond",
      "photoUrl": "",
      "userId": "02480197902791893700"
     },
     "user_tz": 180
    },
    "id": "y6YDqYAGpffZ",
    "outputId": "253acca1-8e89-4bf9-d514-afc40f56cbc4"
   },
   "outputs": [
    {
     "name": "stderr",
     "output_type": "stream",
     "text": [
      "/usr/local/lib/python3.6/dist-packages/sklearn/preprocessing/_encoders.py:415: FutureWarning: The handling of integer data will change in version 0.22. Currently, the categories are determined based on the range [0, max(values)], while in the future they will be determined based on the unique values.\n",
      "If you want the future behaviour and silence this warning, you can specify \"categories='auto'\".\n",
      "In case you used a LabelEncoder before this OneHotEncoder to convert the categories to integers, then you can now use the OneHotEncoder directly.\n",
      "  warnings.warn(msg, FutureWarning)\n",
      "/usr/local/lib/python3.6/dist-packages/sklearn/preprocessing/_encoders.py:451: DeprecationWarning: The 'categorical_features' keyword is deprecated in version 0.20 and will be removed in 0.22. You can use the ColumnTransformer instead.\n",
      "  \"use the ColumnTransformer instead.\", DeprecationWarning)\n"
     ]
    }
   ],
   "source": [
    "#Encode data\n",
    "coded_atr = encode_data(atr, True)"
   ]
  },
  {
   "cell_type": "markdown",
   "metadata": {
    "colab_type": "text",
    "id": "N8PrI8MMzEul"
   },
   "source": [
    "### Network model "
   ]
  },
  {
   "cell_type": "markdown",
   "metadata": {
    "colab_type": "text",
    "id": "gJ028V0svOaK"
   },
   "source": [
    "Neural network model:\n",
    "\n",
    "We define the model as function. This way we can tune the hyperparameters and optimize performance."
   ]
  },
  {
   "cell_type": "code",
   "execution_count": null,
   "metadata": {
    "colab": {},
    "colab_type": "code",
    "id": "lCybSnT8vN1g"
   },
   "outputs": [],
   "source": [
    "#Define function for neural network\n",
    "def regression_net(n_in, n_out, n_layers, n_nodes, opt, act, loss_f, drop):\n",
    "  model = Sequential()\n",
    "  model.add(Dense(units = n_nodes, activation = act, input_dim = n_in))\n",
    "  model.add(Dropout(drop))\n",
    "  for x in range(n_layers):\n",
    "    model.add(Dense(units = n_nodes, activation = act))\n",
    "    model.add(Dropout(drop))\n",
    "  model.add(Dense(units = n_out, activation = 'linear'))\n",
    "  \n",
    "  model.compile(optimizer = opt, loss = loss_f, \n",
    "                metrics = ['mean_absolute_error'])\n",
    "  return model"
   ]
  },
  {
   "cell_type": "code",
   "execution_count": null,
   "metadata": {
    "colab": {},
    "colab_type": "code",
    "id": "F6pyB1FJzvEf"
   },
   "outputs": [],
   "source": [
    "#Create model\n",
    "model = regression_net(n_in = coded_atr.shape[1],\n",
    "                      n_out = 1,\n",
    "                      n_layers = 1,\n",
    "                      n_nodes = 160,\n",
    "                      opt = 'adam',\n",
    "                      act = 'relu',\n",
    "                      loss_f = 'mean_absolute_error',\n",
    "                      drop = 0.0)"
   ]
  },
  {
   "cell_type": "code",
   "execution_count": null,
   "metadata": {
    "colab": {},
    "colab_type": "code",
    "id": "Lv7iLk4U14DQ"
   },
   "outputs": [],
   "source": [
    "#Fit model to dataset\n",
    "model.fit(coded_atr, target, batch_size = 300, epochs = 500)"
   ]
  },
  {
   "cell_type": "code",
   "execution_count": null,
   "metadata": {
    "colab": {
     "base_uri": "https://localhost:8080/",
     "height": 51
    },
    "colab_type": "code",
    "executionInfo": {
     "elapsed": 1425003,
     "status": "ok",
     "timestamp": 1563230602965,
     "user": {
      "displayName": "Edilson Drumond",
      "photoUrl": "",
      "userId": "02480197902791893700"
     },
     "user_tz": 180
    },
    "id": "lOX1GHaNkCkG",
    "outputId": "4f351891-f77d-4bd7-9974-9db34a314d77"
   },
   "outputs": [
    {
     "name": "stderr",
     "output_type": "stream",
     "text": [
      "[Parallel(n_jobs=4)]: Using backend LokyBackend with 4 concurrent workers.\n",
      "[Parallel(n_jobs=4)]: Done   5 out of   5 | elapsed: 23.7min finished\n"
     ]
    }
   ],
   "source": [
    "#Cross-validate model\n",
    "from keras.wrappers.scikit_learn import KerasRegressor\n",
    "from sklearn.model_selection import cross_val_score\n",
    "\n",
    "new_model = KerasRegressor(build_fn = regression_net,\n",
    "                          n_in = coded_atr.shape[1],\n",
    "                          n_out = 1,\n",
    "                          n_layers = 1,\n",
    "                          n_nodes = 160,\n",
    "                          opt = 'adam',\n",
    "                          act = 'relu',\n",
    "                          loss_f = 'mean_absolute_error',\n",
    "                          drop = 0.0,\n",
    "                          batch_size = 300,\n",
    "                          epochs = 100)\n",
    "\n",
    "score = cross_val_score(estimator = new_model,\n",
    "                       X = coded_atr,\n",
    "                       y = target,\n",
    "                       scoring = 'r2',\n",
    "                       cv = 5,\n",
    "                       n_jobs = 4,\n",
    "                       verbose = 2)"
   ]
  },
  {
   "cell_type": "code",
   "execution_count": null,
   "metadata": {
    "colab": {
     "base_uri": "https://localhost:8080/",
     "height": 34
    },
    "colab_type": "code",
    "executionInfo": {
     "elapsed": 503,
     "status": "ok",
     "timestamp": 1563230946901,
     "user": {
      "displayName": "Edilson Drumond",
      "photoUrl": "",
      "userId": "02480197902791893700"
     },
     "user_tz": 180
    },
    "id": "jKGZfgHA0zA0",
    "outputId": "e4af95dc-ba3d-44a7-b030-821854e85e0f"
   },
   "outputs": [
    {
     "data": {
      "text/plain": [
       "array([0.58509757, 0.54303759, 0.49647767, 0.5377635 , 0.60483546])"
      ]
     },
     "execution_count": 52,
     "metadata": {
      "tags": []
     },
     "output_type": "execute_result"
    }
   ],
   "source": [
    "score"
   ]
  },
  {
   "cell_type": "code",
   "execution_count": null,
   "metadata": {
    "colab": {},
    "colab_type": "code",
    "id": "R80bRxosnGRw"
   },
   "outputs": [],
   "source": [
    "#Tune loss function for the model \n",
    "from sklearn.model_selection import GridSearchCV\n",
    "\n",
    "param = {'n_in': [coded_atr.shape[1]],\n",
    "        'n_out': [1],\n",
    "        'n_layers': [1],\n",
    "        'n_nodes': [160],\n",
    "        'opt': ['adam'],\n",
    "        'act': ['relu'],\n",
    "        'loss_f': ['mean_absolute_error', 'mean_squared_error', \n",
    "                   'mean_absolute_percentage_error', 'squared_hinge',\n",
    "                   'mean_squared_logarithmic_error'],\n",
    "        'drop': [0.0],\n",
    "        'batch_size': [300],\n",
    "        'epochs': [100]}\n",
    "\n",
    "grid = GridSearchCV(estimator = new_model, \n",
    "                   param_grid = param,\n",
    "                   scoring = 'r2',\n",
    "                   cv = 4,\n",
    "                   n_jobs = 4,\n",
    "                   verbose = 2)\n",
    "grid.fit(coded_atr, target)"
   ]
  },
  {
   "cell_type": "code",
   "execution_count": null,
   "metadata": {
    "colab": {
     "base_uri": "https://localhost:8080/",
     "height": 479
    },
    "colab_type": "code",
    "executionInfo": {
     "elapsed": 536,
     "status": "ok",
     "timestamp": 1563236822033,
     "user": {
      "displayName": "Edilson Drumond",
      "photoUrl": "",
      "userId": "02480197902791893700"
     },
     "user_tz": 180
    },
    "id": "YRA7WtcBLEB0",
    "outputId": "1470df8c-f8b0-4d63-9211-8776d89f4e6d"
   },
   "outputs": [
    {
     "data": {
      "text/html": [
       "<div>\n",
       "<style scoped>\n",
       "    .dataframe tbody tr th:only-of-type {\n",
       "        vertical-align: middle;\n",
       "    }\n",
       "\n",
       "    .dataframe tbody tr th {\n",
       "        vertical-align: top;\n",
       "    }\n",
       "\n",
       "    .dataframe thead th {\n",
       "        text-align: right;\n",
       "    }\n",
       "</style>\n",
       "<table border=\"1\" class=\"dataframe\">\n",
       "  <thead>\n",
       "    <tr style=\"text-align: right;\">\n",
       "      <th></th>\n",
       "      <th>mean_fit_time</th>\n",
       "      <th>std_fit_time</th>\n",
       "      <th>mean_score_time</th>\n",
       "      <th>std_score_time</th>\n",
       "      <th>param_act</th>\n",
       "      <th>param_batch_size</th>\n",
       "      <th>param_drop</th>\n",
       "      <th>param_epochs</th>\n",
       "      <th>param_loss_f</th>\n",
       "      <th>param_n_in</th>\n",
       "      <th>param_n_layers</th>\n",
       "      <th>param_n_nodes</th>\n",
       "      <th>param_n_out</th>\n",
       "      <th>param_opt</th>\n",
       "      <th>params</th>\n",
       "      <th>split0_test_score</th>\n",
       "      <th>split1_test_score</th>\n",
       "      <th>split2_test_score</th>\n",
       "      <th>split3_test_score</th>\n",
       "      <th>mean_test_score</th>\n",
       "      <th>std_test_score</th>\n",
       "      <th>rank_test_score</th>\n",
       "    </tr>\n",
       "  </thead>\n",
       "  <tbody>\n",
       "    <tr>\n",
       "      <th>0</th>\n",
       "      <td>1015.367427</td>\n",
       "      <td>6.833976</td>\n",
       "      <td>1.243595</td>\n",
       "      <td>0.162364</td>\n",
       "      <td>relu</td>\n",
       "      <td>300</td>\n",
       "      <td>0</td>\n",
       "      <td>100</td>\n",
       "      <td>mean_absolute_error</td>\n",
       "      <td>63</td>\n",
       "      <td>1</td>\n",
       "      <td>160</td>\n",
       "      <td>1</td>\n",
       "      <td>adam</td>\n",
       "      <td>{'act': 'relu', 'batch_size': 300, 'drop': 0.0...</td>\n",
       "      <td>0.573164</td>\n",
       "      <td>0.555776</td>\n",
       "      <td>0.555072</td>\n",
       "      <td>0.544620</td>\n",
       "      <td>0.557158</td>\n",
       "      <td>0.010243</td>\n",
       "      <td>2</td>\n",
       "    </tr>\n",
       "    <tr>\n",
       "      <th>1</th>\n",
       "      <td>1025.594013</td>\n",
       "      <td>8.365594</td>\n",
       "      <td>1.576637</td>\n",
       "      <td>0.214552</td>\n",
       "      <td>relu</td>\n",
       "      <td>300</td>\n",
       "      <td>0</td>\n",
       "      <td>100</td>\n",
       "      <td>mean_squared_error</td>\n",
       "      <td>63</td>\n",
       "      <td>1</td>\n",
       "      <td>160</td>\n",
       "      <td>1</td>\n",
       "      <td>adam</td>\n",
       "      <td>{'act': 'relu', 'batch_size': 300, 'drop': 0.0...</td>\n",
       "      <td>0.596448</td>\n",
       "      <td>0.562235</td>\n",
       "      <td>0.549427</td>\n",
       "      <td>0.621583</td>\n",
       "      <td>0.582423</td>\n",
       "      <td>0.028401</td>\n",
       "      <td>1</td>\n",
       "    </tr>\n",
       "    <tr>\n",
       "      <th>2</th>\n",
       "      <td>1043.126174</td>\n",
       "      <td>6.267975</td>\n",
       "      <td>1.673700</td>\n",
       "      <td>0.522014</td>\n",
       "      <td>relu</td>\n",
       "      <td>300</td>\n",
       "      <td>0</td>\n",
       "      <td>100</td>\n",
       "      <td>mean_absolute_percentage_error</td>\n",
       "      <td>63</td>\n",
       "      <td>1</td>\n",
       "      <td>160</td>\n",
       "      <td>1</td>\n",
       "      <td>adam</td>\n",
       "      <td>{'act': 'relu', 'batch_size': 300, 'drop': 0.0...</td>\n",
       "      <td>-0.035417</td>\n",
       "      <td>-0.001506</td>\n",
       "      <td>-0.106616</td>\n",
       "      <td>0.062177</td>\n",
       "      <td>-0.020341</td>\n",
       "      <td>0.060899</td>\n",
       "      <td>3</td>\n",
       "    </tr>\n",
       "    <tr>\n",
       "      <th>3</th>\n",
       "      <td>1040.560825</td>\n",
       "      <td>5.508215</td>\n",
       "      <td>2.061972</td>\n",
       "      <td>0.339477</td>\n",
       "      <td>relu</td>\n",
       "      <td>300</td>\n",
       "      <td>0</td>\n",
       "      <td>100</td>\n",
       "      <td>squared_hinge</td>\n",
       "      <td>63</td>\n",
       "      <td>1</td>\n",
       "      <td>160</td>\n",
       "      <td>1</td>\n",
       "      <td>adam</td>\n",
       "      <td>{'act': 'relu', 'batch_size': 300, 'drop': 0.0...</td>\n",
       "      <td>-21.790041</td>\n",
       "      <td>-17.713348</td>\n",
       "      <td>-17.071467</td>\n",
       "      <td>-13.378319</td>\n",
       "      <td>-17.488305</td>\n",
       "      <td>2.984176</td>\n",
       "      <td>4</td>\n",
       "    </tr>\n",
       "    <tr>\n",
       "      <th>4</th>\n",
       "      <td>1051.986920</td>\n",
       "      <td>4.865683</td>\n",
       "      <td>1.408378</td>\n",
       "      <td>0.889068</td>\n",
       "      <td>relu</td>\n",
       "      <td>300</td>\n",
       "      <td>0</td>\n",
       "      <td>100</td>\n",
       "      <td>mean_squared_logarithmic_error</td>\n",
       "      <td>63</td>\n",
       "      <td>1</td>\n",
       "      <td>160</td>\n",
       "      <td>1</td>\n",
       "      <td>adam</td>\n",
       "      <td>{'act': 'relu', 'batch_size': 300, 'drop': 0.0...</td>\n",
       "      <td>-1640.294319</td>\n",
       "      <td>-801.057365</td>\n",
       "      <td>-36.398290</td>\n",
       "      <td>-1493.396512</td>\n",
       "      <td>-992.785228</td>\n",
       "      <td>636.654724</td>\n",
       "      <td>5</td>\n",
       "    </tr>\n",
       "  </tbody>\n",
       "</table>\n",
       "</div>"
      ],
      "text/plain": [
       "   mean_fit_time  std_fit_time  ...  std_test_score  rank_test_score\n",
       "0    1015.367427      6.833976  ...        0.010243                2\n",
       "1    1025.594013      8.365594  ...        0.028401                1\n",
       "2    1043.126174      6.267975  ...        0.060899                3\n",
       "3    1040.560825      5.508215  ...        2.984176                4\n",
       "4    1051.986920      4.865683  ...      636.654724                5\n",
       "\n",
       "[5 rows x 22 columns]"
      ]
     },
     "execution_count": 55,
     "metadata": {
      "tags": []
     },
     "output_type": "execute_result"
    }
   ],
   "source": [
    "grid_df = pd.DataFrame(data = grid.cv_results_)\n",
    "grid_df"
   ]
  }
 ],
 "metadata": {
  "colab": {
   "collapsed_sections": [],
   "name": "usedCarsRegression.ipynb",
   "provenance": [],
   "toc_visible": true,
   "version": "0.3.2"
  },
  "kernelspec": {
   "display_name": "Python 3",
   "language": "python",
   "name": "python3"
  },
  "language_info": {
   "codemirror_mode": {
    "name": "ipython",
    "version": 3
   },
   "file_extension": ".py",
   "mimetype": "text/x-python",
   "name": "python",
   "nbconvert_exporter": "python",
   "pygments_lexer": "ipython3",
   "version": "3.7.3"
  }
 },
 "nbformat": 4,
 "nbformat_minor": 2
}
